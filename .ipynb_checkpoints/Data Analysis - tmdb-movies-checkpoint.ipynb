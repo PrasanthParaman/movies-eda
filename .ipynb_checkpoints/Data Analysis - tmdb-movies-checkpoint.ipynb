{
 "cells": [
  {
   "cell_type": "markdown",
   "metadata": {},
   "source": [
    "# Project: Data Analysis on tmdb-movies.csv\n",
    "\n",
    "## Table of Contents\n",
    "<ul>\n",
    "<li><a href=\"#intro\">Introduction</a></li>\n",
    "<li><a href=\"#wrangling\">Data Wrangling</a></li>\n",
    "<li><a href=\"#eda\">Exploratory Data Analysis</a></li>\n",
    "<li><a href=\"#conclusions\">Conclusions</a></li>\n",
    "</ul>"
   ]
  },
  {
   "cell_type": "markdown",
   "metadata": {},
   "source": [
    "<a id='intro'></a>\n",
    "## Introduction\n",
    "\n",
    "> For this project, I have chosen the **tmdb-movies** dataset for data analysis. My personal interest towards movies is one of the main reasons for choosing this dataset. In this project, I would like to explore how the popularity of top genres has evolved over the years."
   ]
  },
  {
   "cell_type": "code",
   "execution_count": 176,
   "metadata": {},
   "outputs": [],
   "source": [
    "# importing required packages\n",
    "import pandas as pd\n",
    "import numpy as np\n",
    "import seaborn as sns\n",
    "import matplotlib.pyplot as plt\n",
    "\n",
    "%matplotlib inline"
   ]
  },
  {
   "cell_type": "markdown",
   "metadata": {},
   "source": [
    "<a id='wrangling'></a>\n",
    "## Data Wrangling\n",
    "\n",
    "### Assesing the data\n",
    "\n",
    "In this section, we'll assess the data from different perspectives and arrive at an action-item list to clean the data in the next section"
   ]
  },
  {
   "cell_type": "code",
   "execution_count": 177,
   "metadata": {},
   "outputs": [
    {
     "data": {
      "text/plain": [
       "(10866, 21)"
      ]
     },
     "execution_count": 177,
     "metadata": {},
     "output_type": "execute_result"
    }
   ],
   "source": [
    "df = pd.read_csv('tmdb-movies.csv')\n",
    "df.shape"
   ]
  },
  {
   "cell_type": "markdown",
   "metadata": {},
   "source": [
    "There are 10866 entries and 21 columns in the datase. Let us check what these columns are below."
   ]
  },
  {
   "cell_type": "code",
   "execution_count": 178,
   "metadata": {
    "scrolled": false
   },
   "outputs": [
    {
     "name": "stdout",
     "output_type": "stream",
     "text": [
      "<class 'pandas.core.frame.DataFrame'>\n",
      "RangeIndex: 10866 entries, 0 to 10865\n",
      "Data columns (total 21 columns):\n",
      " #   Column                Non-Null Count  Dtype  \n",
      "---  ------                --------------  -----  \n",
      " 0   id                    10866 non-null  int64  \n",
      " 1   imdb_id               10856 non-null  object \n",
      " 2   popularity            10866 non-null  float64\n",
      " 3   budget                10866 non-null  int64  \n",
      " 4   revenue               10866 non-null  int64  \n",
      " 5   original_title        10866 non-null  object \n",
      " 6   cast                  10790 non-null  object \n",
      " 7   homepage              2936 non-null   object \n",
      " 8   director              10822 non-null  object \n",
      " 9   tagline               8042 non-null   object \n",
      " 10  keywords              9373 non-null   object \n",
      " 11  overview              10862 non-null  object \n",
      " 12  runtime               10866 non-null  int64  \n",
      " 13  genres                10843 non-null  object \n",
      " 14  production_companies  9836 non-null   object \n",
      " 15  release_date          10866 non-null  object \n",
      " 16  vote_count            10866 non-null  int64  \n",
      " 17  vote_average          10866 non-null  float64\n",
      " 18  release_year          10866 non-null  int64  \n",
      " 19  budget_adj            10866 non-null  float64\n",
      " 20  revenue_adj           10866 non-null  float64\n",
      "dtypes: float64(4), int64(6), object(11)\n",
      "memory usage: 1.3+ MB\n"
     ]
    }
   ],
   "source": [
    "#finding information about the dataset\n",
    "df.info()"
   ]
  },
  {
   "cell_type": "code",
   "execution_count": 179,
   "metadata": {},
   "outputs": [
    {
     "data": {
      "text/html": [
       "<div>\n",
       "<style scoped>\n",
       "    .dataframe tbody tr th:only-of-type {\n",
       "        vertical-align: middle;\n",
       "    }\n",
       "\n",
       "    .dataframe tbody tr th {\n",
       "        vertical-align: top;\n",
       "    }\n",
       "\n",
       "    .dataframe thead th {\n",
       "        text-align: right;\n",
       "    }\n",
       "</style>\n",
       "<table border=\"1\" class=\"dataframe\">\n",
       "  <thead>\n",
       "    <tr style=\"text-align: right;\">\n",
       "      <th></th>\n",
       "      <th>id</th>\n",
       "      <th>imdb_id</th>\n",
       "      <th>popularity</th>\n",
       "      <th>budget</th>\n",
       "      <th>revenue</th>\n",
       "      <th>original_title</th>\n",
       "      <th>cast</th>\n",
       "      <th>homepage</th>\n",
       "      <th>director</th>\n",
       "      <th>tagline</th>\n",
       "      <th>...</th>\n",
       "      <th>overview</th>\n",
       "      <th>runtime</th>\n",
       "      <th>genres</th>\n",
       "      <th>production_companies</th>\n",
       "      <th>release_date</th>\n",
       "      <th>vote_count</th>\n",
       "      <th>vote_average</th>\n",
       "      <th>release_year</th>\n",
       "      <th>budget_adj</th>\n",
       "      <th>revenue_adj</th>\n",
       "    </tr>\n",
       "  </thead>\n",
       "  <tbody>\n",
       "    <tr>\n",
       "      <th>0</th>\n",
       "      <td>135397</td>\n",
       "      <td>tt0369610</td>\n",
       "      <td>32.985763</td>\n",
       "      <td>150000000</td>\n",
       "      <td>1513528810</td>\n",
       "      <td>Jurassic World</td>\n",
       "      <td>Chris Pratt|Bryce Dallas Howard|Irrfan Khan|Vi...</td>\n",
       "      <td>http://www.jurassicworld.com/</td>\n",
       "      <td>Colin Trevorrow</td>\n",
       "      <td>The park is open.</td>\n",
       "      <td>...</td>\n",
       "      <td>Twenty-two years after the events of Jurassic ...</td>\n",
       "      <td>124</td>\n",
       "      <td>Action|Adventure|Science Fiction|Thriller</td>\n",
       "      <td>Universal Studios|Amblin Entertainment|Legenda...</td>\n",
       "      <td>6/9/15</td>\n",
       "      <td>5562</td>\n",
       "      <td>6.5</td>\n",
       "      <td>2015</td>\n",
       "      <td>1.379999e+08</td>\n",
       "      <td>1.392446e+09</td>\n",
       "    </tr>\n",
       "    <tr>\n",
       "      <th>1</th>\n",
       "      <td>76341</td>\n",
       "      <td>tt1392190</td>\n",
       "      <td>28.419936</td>\n",
       "      <td>150000000</td>\n",
       "      <td>378436354</td>\n",
       "      <td>Mad Max: Fury Road</td>\n",
       "      <td>Tom Hardy|Charlize Theron|Hugh Keays-Byrne|Nic...</td>\n",
       "      <td>http://www.madmaxmovie.com/</td>\n",
       "      <td>George Miller</td>\n",
       "      <td>What a Lovely Day.</td>\n",
       "      <td>...</td>\n",
       "      <td>An apocalyptic story set in the furthest reach...</td>\n",
       "      <td>120</td>\n",
       "      <td>Action|Adventure|Science Fiction|Thriller</td>\n",
       "      <td>Village Roadshow Pictures|Kennedy Miller Produ...</td>\n",
       "      <td>5/13/15</td>\n",
       "      <td>6185</td>\n",
       "      <td>7.1</td>\n",
       "      <td>2015</td>\n",
       "      <td>1.379999e+08</td>\n",
       "      <td>3.481613e+08</td>\n",
       "    </tr>\n",
       "    <tr>\n",
       "      <th>2</th>\n",
       "      <td>262500</td>\n",
       "      <td>tt2908446</td>\n",
       "      <td>13.112507</td>\n",
       "      <td>110000000</td>\n",
       "      <td>295238201</td>\n",
       "      <td>Insurgent</td>\n",
       "      <td>Shailene Woodley|Theo James|Kate Winslet|Ansel...</td>\n",
       "      <td>http://www.thedivergentseries.movie/#insurgent</td>\n",
       "      <td>Robert Schwentke</td>\n",
       "      <td>One Choice Can Destroy You</td>\n",
       "      <td>...</td>\n",
       "      <td>Beatrice Prior must confront her inner demons ...</td>\n",
       "      <td>119</td>\n",
       "      <td>Adventure|Science Fiction|Thriller</td>\n",
       "      <td>Summit Entertainment|Mandeville Films|Red Wago...</td>\n",
       "      <td>3/18/15</td>\n",
       "      <td>2480</td>\n",
       "      <td>6.3</td>\n",
       "      <td>2015</td>\n",
       "      <td>1.012000e+08</td>\n",
       "      <td>2.716190e+08</td>\n",
       "    </tr>\n",
       "    <tr>\n",
       "      <th>3</th>\n",
       "      <td>140607</td>\n",
       "      <td>tt2488496</td>\n",
       "      <td>11.173104</td>\n",
       "      <td>200000000</td>\n",
       "      <td>2068178225</td>\n",
       "      <td>Star Wars: The Force Awakens</td>\n",
       "      <td>Harrison Ford|Mark Hamill|Carrie Fisher|Adam D...</td>\n",
       "      <td>http://www.starwars.com/films/star-wars-episod...</td>\n",
       "      <td>J.J. Abrams</td>\n",
       "      <td>Every generation has a story.</td>\n",
       "      <td>...</td>\n",
       "      <td>Thirty years after defeating the Galactic Empi...</td>\n",
       "      <td>136</td>\n",
       "      <td>Action|Adventure|Science Fiction|Fantasy</td>\n",
       "      <td>Lucasfilm|Truenorth Productions|Bad Robot</td>\n",
       "      <td>12/15/15</td>\n",
       "      <td>5292</td>\n",
       "      <td>7.5</td>\n",
       "      <td>2015</td>\n",
       "      <td>1.839999e+08</td>\n",
       "      <td>1.902723e+09</td>\n",
       "    </tr>\n",
       "    <tr>\n",
       "      <th>4</th>\n",
       "      <td>168259</td>\n",
       "      <td>tt2820852</td>\n",
       "      <td>9.335014</td>\n",
       "      <td>190000000</td>\n",
       "      <td>1506249360</td>\n",
       "      <td>Furious 7</td>\n",
       "      <td>Vin Diesel|Paul Walker|Jason Statham|Michelle ...</td>\n",
       "      <td>http://www.furious7.com/</td>\n",
       "      <td>James Wan</td>\n",
       "      <td>Vengeance Hits Home</td>\n",
       "      <td>...</td>\n",
       "      <td>Deckard Shaw seeks revenge against Dominic Tor...</td>\n",
       "      <td>137</td>\n",
       "      <td>Action|Crime|Thriller</td>\n",
       "      <td>Universal Pictures|Original Film|Media Rights ...</td>\n",
       "      <td>4/1/15</td>\n",
       "      <td>2947</td>\n",
       "      <td>7.3</td>\n",
       "      <td>2015</td>\n",
       "      <td>1.747999e+08</td>\n",
       "      <td>1.385749e+09</td>\n",
       "    </tr>\n",
       "  </tbody>\n",
       "</table>\n",
       "<p>5 rows × 21 columns</p>\n",
       "</div>"
      ],
      "text/plain": [
       "       id    imdb_id  popularity     budget     revenue  \\\n",
       "0  135397  tt0369610   32.985763  150000000  1513528810   \n",
       "1   76341  tt1392190   28.419936  150000000   378436354   \n",
       "2  262500  tt2908446   13.112507  110000000   295238201   \n",
       "3  140607  tt2488496   11.173104  200000000  2068178225   \n",
       "4  168259  tt2820852    9.335014  190000000  1506249360   \n",
       "\n",
       "                 original_title  \\\n",
       "0                Jurassic World   \n",
       "1            Mad Max: Fury Road   \n",
       "2                     Insurgent   \n",
       "3  Star Wars: The Force Awakens   \n",
       "4                     Furious 7   \n",
       "\n",
       "                                                cast  \\\n",
       "0  Chris Pratt|Bryce Dallas Howard|Irrfan Khan|Vi...   \n",
       "1  Tom Hardy|Charlize Theron|Hugh Keays-Byrne|Nic...   \n",
       "2  Shailene Woodley|Theo James|Kate Winslet|Ansel...   \n",
       "3  Harrison Ford|Mark Hamill|Carrie Fisher|Adam D...   \n",
       "4  Vin Diesel|Paul Walker|Jason Statham|Michelle ...   \n",
       "\n",
       "                                            homepage          director  \\\n",
       "0                      http://www.jurassicworld.com/   Colin Trevorrow   \n",
       "1                        http://www.madmaxmovie.com/     George Miller   \n",
       "2     http://www.thedivergentseries.movie/#insurgent  Robert Schwentke   \n",
       "3  http://www.starwars.com/films/star-wars-episod...       J.J. Abrams   \n",
       "4                           http://www.furious7.com/         James Wan   \n",
       "\n",
       "                         tagline  ...  \\\n",
       "0              The park is open.  ...   \n",
       "1             What a Lovely Day.  ...   \n",
       "2     One Choice Can Destroy You  ...   \n",
       "3  Every generation has a story.  ...   \n",
       "4            Vengeance Hits Home  ...   \n",
       "\n",
       "                                            overview runtime  \\\n",
       "0  Twenty-two years after the events of Jurassic ...     124   \n",
       "1  An apocalyptic story set in the furthest reach...     120   \n",
       "2  Beatrice Prior must confront her inner demons ...     119   \n",
       "3  Thirty years after defeating the Galactic Empi...     136   \n",
       "4  Deckard Shaw seeks revenge against Dominic Tor...     137   \n",
       "\n",
       "                                      genres  \\\n",
       "0  Action|Adventure|Science Fiction|Thriller   \n",
       "1  Action|Adventure|Science Fiction|Thriller   \n",
       "2         Adventure|Science Fiction|Thriller   \n",
       "3   Action|Adventure|Science Fiction|Fantasy   \n",
       "4                      Action|Crime|Thriller   \n",
       "\n",
       "                                production_companies release_date vote_count  \\\n",
       "0  Universal Studios|Amblin Entertainment|Legenda...       6/9/15       5562   \n",
       "1  Village Roadshow Pictures|Kennedy Miller Produ...      5/13/15       6185   \n",
       "2  Summit Entertainment|Mandeville Films|Red Wago...      3/18/15       2480   \n",
       "3          Lucasfilm|Truenorth Productions|Bad Robot     12/15/15       5292   \n",
       "4  Universal Pictures|Original Film|Media Rights ...       4/1/15       2947   \n",
       "\n",
       "   vote_average  release_year    budget_adj   revenue_adj  \n",
       "0           6.5          2015  1.379999e+08  1.392446e+09  \n",
       "1           7.1          2015  1.379999e+08  3.481613e+08  \n",
       "2           6.3          2015  1.012000e+08  2.716190e+08  \n",
       "3           7.5          2015  1.839999e+08  1.902723e+09  \n",
       "4           7.3          2015  1.747999e+08  1.385749e+09  \n",
       "\n",
       "[5 rows x 21 columns]"
      ]
     },
     "execution_count": 179,
     "metadata": {},
     "output_type": "execute_result"
    }
   ],
   "source": [
    "#printing first ten data values\n",
    "df.head()"
   ]
  },
  {
   "cell_type": "markdown",
   "metadata": {},
   "source": [
    "Columns such as *id, imdb_id, original_title, homepage, tagline, keywords, overview* are very specific to the movies. Since what we are trying to find is generic, we need to remove these fields. Also features such as *budget_adj and revenue_adj* can be removed since they are represented in US money in 2010. Let us add these as action points (1) and (2) to the action-item list."
   ]
  },
  {
   "cell_type": "code",
   "execution_count": 180,
   "metadata": {
    "scrolled": false
   },
   "outputs": [
    {
     "name": "stdout",
     "output_type": "stream",
     "text": [
      "datatype of id is <class 'numpy.int64'>\n",
      "datatype of imdb_id is <class 'str'>\n",
      "datatype of popularity is <class 'numpy.float64'>\n",
      "datatype of budget is <class 'numpy.int64'>\n",
      "datatype of revenue is <class 'numpy.int64'>\n",
      "datatype of original_title is <class 'str'>\n",
      "datatype of cast is <class 'str'>\n",
      "datatype of homepage is <class 'str'>\n",
      "datatype of director is <class 'str'>\n",
      "datatype of tagline is <class 'str'>\n",
      "datatype of keywords is <class 'str'>\n",
      "datatype of overview is <class 'str'>\n",
      "datatype of runtime is <class 'numpy.int64'>\n",
      "datatype of genres is <class 'str'>\n",
      "datatype of production_companies is <class 'str'>\n",
      "datatype of release_date is <class 'str'>\n",
      "datatype of vote_count is <class 'numpy.int64'>\n",
      "datatype of vote_average is <class 'numpy.float64'>\n",
      "datatype of release_year is <class 'numpy.int64'>\n",
      "datatype of budget_adj is <class 'numpy.float64'>\n",
      "datatype of revenue_adj is <class 'numpy.float64'>\n"
     ]
    }
   ],
   "source": [
    "#checking if each column is of appropriate datatype\n",
    "for column in df.columns:\n",
    "    print('datatype of {} is'.format(column), type(df[column][0]))"
   ]
  },
  {
   "cell_type": "markdown",
   "metadata": {},
   "source": [
    "From the above print statements, we can observe that most of the columns are having appropriate data types except for *release_date*, *release_year*. Instead of date time format, these columns are of float data type. Since the questions we are trying to solve are not accurately date centric operations, we need not change them"
   ]
  },
  {
   "cell_type": "code",
   "execution_count": 181,
   "metadata": {},
   "outputs": [
    {
     "data": {
      "text/plain": [
       "1"
      ]
     },
     "execution_count": 181,
     "metadata": {},
     "output_type": "execute_result"
    }
   ],
   "source": [
    "#checking for duplicate entries\n",
    "sum(df.duplicated())"
   ]
  },
  {
   "cell_type": "markdown",
   "metadata": {},
   "source": [
    "There seems to be one duplicate row in the data set that needs to be removed. Thus added as (3) in action-item list"
   ]
  },
  {
   "cell_type": "code",
   "execution_count": 182,
   "metadata": {
    "scrolled": false
   },
   "outputs": [
    {
     "name": "stdout",
     "output_type": "stream",
     "text": [
      "Number of missing values for feature id is 0\n",
      "Number of missing values for feature imdb_id is 10\n",
      "Number of missing values for feature popularity is 0\n",
      "Number of missing values for feature budget is 0\n",
      "Number of missing values for feature revenue is 0\n",
      "Number of missing values for feature original_title is 0\n",
      "Number of missing values for feature cast is 76\n",
      "Number of missing values for feature homepage is 7930\n",
      "Number of missing values for feature director is 44\n",
      "Number of missing values for feature tagline is 2824\n",
      "Number of missing values for feature keywords is 1493\n",
      "Number of missing values for feature overview is 4\n",
      "Number of missing values for feature runtime is 0\n",
      "Number of missing values for feature genres is 23\n",
      "Number of missing values for feature production_companies is 1030\n",
      "Number of missing values for feature release_date is 0\n",
      "Number of missing values for feature vote_count is 0\n",
      "Number of missing values for feature vote_average is 0\n",
      "Number of missing values for feature release_year is 0\n",
      "Number of missing values for feature budget_adj is 0\n",
      "Number of missing values for feature revenue_adj is 0\n"
     ]
    }
   ],
   "source": [
    "#checking missing values for each feature\n",
    "for column in df.columns:\n",
    "    print('Number of missing values for feature {} is'.format(column), sum(df[column].isnull()))"
   ]
  },
  {
   "cell_type": "markdown",
   "metadata": {},
   "source": [
    "From the above print statements, it is clear that there are null entries that needs to be removed. Hence adding as action point (4)"
   ]
  },
  {
   "cell_type": "code",
   "execution_count": 183,
   "metadata": {
    "scrolled": true
   },
   "outputs": [
    {
     "data": {
      "text/html": [
       "<div>\n",
       "<style scoped>\n",
       "    .dataframe tbody tr th:only-of-type {\n",
       "        vertical-align: middle;\n",
       "    }\n",
       "\n",
       "    .dataframe tbody tr th {\n",
       "        vertical-align: top;\n",
       "    }\n",
       "\n",
       "    .dataframe thead th {\n",
       "        text-align: right;\n",
       "    }\n",
       "</style>\n",
       "<table border=\"1\" class=\"dataframe\">\n",
       "  <thead>\n",
       "    <tr style=\"text-align: right;\">\n",
       "      <th></th>\n",
       "      <th>id</th>\n",
       "      <th>popularity</th>\n",
       "      <th>budget</th>\n",
       "      <th>revenue</th>\n",
       "      <th>runtime</th>\n",
       "      <th>vote_count</th>\n",
       "      <th>vote_average</th>\n",
       "      <th>release_year</th>\n",
       "      <th>budget_adj</th>\n",
       "      <th>revenue_adj</th>\n",
       "    </tr>\n",
       "  </thead>\n",
       "  <tbody>\n",
       "    <tr>\n",
       "      <th>count</th>\n",
       "      <td>10866.000000</td>\n",
       "      <td>10866.000000</td>\n",
       "      <td>1.086600e+04</td>\n",
       "      <td>1.086600e+04</td>\n",
       "      <td>10866.000000</td>\n",
       "      <td>10866.000000</td>\n",
       "      <td>10866.000000</td>\n",
       "      <td>10866.000000</td>\n",
       "      <td>1.086600e+04</td>\n",
       "      <td>1.086600e+04</td>\n",
       "    </tr>\n",
       "    <tr>\n",
       "      <th>mean</th>\n",
       "      <td>66064.177434</td>\n",
       "      <td>0.646441</td>\n",
       "      <td>1.462570e+07</td>\n",
       "      <td>3.982332e+07</td>\n",
       "      <td>102.070863</td>\n",
       "      <td>217.389748</td>\n",
       "      <td>5.974922</td>\n",
       "      <td>2001.322658</td>\n",
       "      <td>1.755104e+07</td>\n",
       "      <td>5.136436e+07</td>\n",
       "    </tr>\n",
       "    <tr>\n",
       "      <th>std</th>\n",
       "      <td>92130.136561</td>\n",
       "      <td>1.000185</td>\n",
       "      <td>3.091321e+07</td>\n",
       "      <td>1.170035e+08</td>\n",
       "      <td>31.381405</td>\n",
       "      <td>575.619058</td>\n",
       "      <td>0.935142</td>\n",
       "      <td>12.812941</td>\n",
       "      <td>3.430616e+07</td>\n",
       "      <td>1.446325e+08</td>\n",
       "    </tr>\n",
       "    <tr>\n",
       "      <th>min</th>\n",
       "      <td>5.000000</td>\n",
       "      <td>0.000065</td>\n",
       "      <td>0.000000e+00</td>\n",
       "      <td>0.000000e+00</td>\n",
       "      <td>0.000000</td>\n",
       "      <td>10.000000</td>\n",
       "      <td>1.500000</td>\n",
       "      <td>1960.000000</td>\n",
       "      <td>0.000000e+00</td>\n",
       "      <td>0.000000e+00</td>\n",
       "    </tr>\n",
       "    <tr>\n",
       "      <th>25%</th>\n",
       "      <td>10596.250000</td>\n",
       "      <td>0.207583</td>\n",
       "      <td>0.000000e+00</td>\n",
       "      <td>0.000000e+00</td>\n",
       "      <td>90.000000</td>\n",
       "      <td>17.000000</td>\n",
       "      <td>5.400000</td>\n",
       "      <td>1995.000000</td>\n",
       "      <td>0.000000e+00</td>\n",
       "      <td>0.000000e+00</td>\n",
       "    </tr>\n",
       "    <tr>\n",
       "      <th>50%</th>\n",
       "      <td>20669.000000</td>\n",
       "      <td>0.383856</td>\n",
       "      <td>0.000000e+00</td>\n",
       "      <td>0.000000e+00</td>\n",
       "      <td>99.000000</td>\n",
       "      <td>38.000000</td>\n",
       "      <td>6.000000</td>\n",
       "      <td>2006.000000</td>\n",
       "      <td>0.000000e+00</td>\n",
       "      <td>0.000000e+00</td>\n",
       "    </tr>\n",
       "    <tr>\n",
       "      <th>75%</th>\n",
       "      <td>75610.000000</td>\n",
       "      <td>0.713817</td>\n",
       "      <td>1.500000e+07</td>\n",
       "      <td>2.400000e+07</td>\n",
       "      <td>111.000000</td>\n",
       "      <td>145.750000</td>\n",
       "      <td>6.600000</td>\n",
       "      <td>2011.000000</td>\n",
       "      <td>2.085325e+07</td>\n",
       "      <td>3.369710e+07</td>\n",
       "    </tr>\n",
       "    <tr>\n",
       "      <th>max</th>\n",
       "      <td>417859.000000</td>\n",
       "      <td>32.985763</td>\n",
       "      <td>4.250000e+08</td>\n",
       "      <td>2.781506e+09</td>\n",
       "      <td>900.000000</td>\n",
       "      <td>9767.000000</td>\n",
       "      <td>9.200000</td>\n",
       "      <td>2015.000000</td>\n",
       "      <td>4.250000e+08</td>\n",
       "      <td>2.827124e+09</td>\n",
       "    </tr>\n",
       "  </tbody>\n",
       "</table>\n",
       "</div>"
      ],
      "text/plain": [
       "                  id    popularity        budget       revenue       runtime  \\\n",
       "count   10866.000000  10866.000000  1.086600e+04  1.086600e+04  10866.000000   \n",
       "mean    66064.177434      0.646441  1.462570e+07  3.982332e+07    102.070863   \n",
       "std     92130.136561      1.000185  3.091321e+07  1.170035e+08     31.381405   \n",
       "min         5.000000      0.000065  0.000000e+00  0.000000e+00      0.000000   \n",
       "25%     10596.250000      0.207583  0.000000e+00  0.000000e+00     90.000000   \n",
       "50%     20669.000000      0.383856  0.000000e+00  0.000000e+00     99.000000   \n",
       "75%     75610.000000      0.713817  1.500000e+07  2.400000e+07    111.000000   \n",
       "max    417859.000000     32.985763  4.250000e+08  2.781506e+09    900.000000   \n",
       "\n",
       "         vote_count  vote_average  release_year    budget_adj   revenue_adj  \n",
       "count  10866.000000  10866.000000  10866.000000  1.086600e+04  1.086600e+04  \n",
       "mean     217.389748      5.974922   2001.322658  1.755104e+07  5.136436e+07  \n",
       "std      575.619058      0.935142     12.812941  3.430616e+07  1.446325e+08  \n",
       "min       10.000000      1.500000   1960.000000  0.000000e+00  0.000000e+00  \n",
       "25%       17.000000      5.400000   1995.000000  0.000000e+00  0.000000e+00  \n",
       "50%       38.000000      6.000000   2006.000000  0.000000e+00  0.000000e+00  \n",
       "75%      145.750000      6.600000   2011.000000  2.085325e+07  3.369710e+07  \n",
       "max     9767.000000      9.200000   2015.000000  4.250000e+08  2.827124e+09  "
      ]
     },
     "execution_count": 183,
     "metadata": {},
     "output_type": "execute_result"
    }
   ],
   "source": [
    "#performing basic statistical analysis of the data set\n",
    "df.describe()"
   ]
  },
  {
   "cell_type": "code",
   "execution_count": 242,
   "metadata": {},
   "outputs": [
    {
     "data": {
      "image/png": "[encoded data removed]",
      "text/plain": [
       "<Figure size 1080x1080 with 9 Axes>"
      ]
     },
     "metadata": {
      "needs_background": "light"
     },
     "output_type": "display_data"
    }
   ],
   "source": [
    "df.hist(figsize=(15,15));"
   ]
  },
  {
   "cell_type": "markdown",
   "metadata": {},
   "source": [
    "From the above histogram plots, we can find that:\n",
    "<ol>\n",
    "    <li> Features such as popularity, budget, revenue, vote_count, budget_adj, revenue_adj are right skewed. This means that there are very few number of movies spending in billions or making a profit in billions.</li>\n",
    "    <li> release_year is left skewed which means more number of movies have be released in the recent years as compared to the past</li>\n",
    "</ol>"
   ]
  },
  {
   "cell_type": "markdown",
   "metadata": {},
   "source": [
    "### Cleaning actions that needs to be done\n",
    "<ol>\n",
    "    <li>Filter the data by removing fields 'id', 'imdb_id', 'original_title', 'homepage', 'tagline', 'keywords', 'overview' from the table</li>\n",
    "    <li>Remove the fields 'budget_adj' and 'revenue_adj' from the table</li>\n",
    "    <li>Remove the single duplicate entry</li>\n",
    "    <li>Remove the rows with null values</li>\n",
    "\n",
    "</ol>"
   ]
  },
  {
   "cell_type": "markdown",
   "metadata": {},
   "source": [
    "### Data Cleaning (Let us start cleaning the data by following the above list)"
   ]
  },
  {
   "cell_type": "markdown",
   "metadata": {},
   "source": [
    "#### 1. Filtering the data"
   ]
  },
  {
   "cell_type": "code",
   "execution_count": 185,
   "metadata": {},
   "outputs": [],
   "source": [
    "# removing fields 'id', 'imdb_id', 'original_title', 'homepage', 'tagline', 'keywords', 'overview' from the table\n",
    "df.drop(['id', 'imdb_id', 'original_title', 'homepage', 'tagline', 'keywords', 'overview'],axis='columns', inplace=True)"
   ]
  },
  {
   "cell_type": "code",
   "execution_count": 187,
   "metadata": {},
   "outputs": [
    {
     "name": "stdout",
     "output_type": "stream",
     "text": [
      "<class 'pandas.core.frame.DataFrame'>\n",
      "RangeIndex: 10866 entries, 0 to 10865\n",
      "Data columns (total 14 columns):\n",
      " #   Column                Non-Null Count  Dtype  \n",
      "---  ------                --------------  -----  \n",
      " 0   popularity            10866 non-null  float64\n",
      " 1   budget                10866 non-null  int64  \n",
      " 2   revenue               10866 non-null  int64  \n",
      " 3   cast                  10790 non-null  object \n",
      " 4   director              10822 non-null  object \n",
      " 5   runtime               10866 non-null  int64  \n",
      " 6   genres                10843 non-null  object \n",
      " 7   production_companies  9836 non-null   object \n",
      " 8   release_date          10866 non-null  object \n",
      " 9   vote_count            10866 non-null  int64  \n",
      " 10  vote_average          10866 non-null  float64\n",
      " 11  release_year          10866 non-null  int64  \n",
      " 12  budget_adj            10866 non-null  float64\n",
      " 13  revenue_adj           10866 non-null  float64\n",
      "dtypes: float64(4), int64(5), object(5)\n",
      "memory usage: 976.3+ KB\n"
     ]
    }
   ],
   "source": [
    "#rechecking if feilds are removed --  7 columns:\n",
    "#'id', 'imdb_id', 'original_title', 'homepage', 'tagline', 'keywords', 'overview' must not be present\n",
    "df.info()"
   ]
  },
  {
   "cell_type": "markdown",
   "metadata": {},
   "source": [
    "#### 2. Remove the fields 'budget_adj' and 'revenue_adj' from the table"
   ]
  },
  {
   "cell_type": "code",
   "execution_count": 188,
   "metadata": {},
   "outputs": [],
   "source": [
    "#removing the fields 'budget_adj' and 'revenue_adj'\n",
    "df.drop(['budget_adj','revenue_adj'], axis='columns', inplace=True)"
   ]
  },
  {
   "cell_type": "code",
   "execution_count": 189,
   "metadata": {},
   "outputs": [
    {
     "name": "stdout",
     "output_type": "stream",
     "text": [
      "<class 'pandas.core.frame.DataFrame'>\n",
      "RangeIndex: 10866 entries, 0 to 10865\n",
      "Data columns (total 12 columns):\n",
      " #   Column                Non-Null Count  Dtype  \n",
      "---  ------                --------------  -----  \n",
      " 0   popularity            10866 non-null  float64\n",
      " 1   budget                10866 non-null  int64  \n",
      " 2   revenue               10866 non-null  int64  \n",
      " 3   cast                  10790 non-null  object \n",
      " 4   director              10822 non-null  object \n",
      " 5   runtime               10866 non-null  int64  \n",
      " 6   genres                10843 non-null  object \n",
      " 7   production_companies  9836 non-null   object \n",
      " 8   release_date          10866 non-null  object \n",
      " 9   vote_count            10866 non-null  int64  \n",
      " 10  vote_average          10866 non-null  float64\n",
      " 11  release_year          10866 non-null  int64  \n",
      "dtypes: float64(2), int64(5), object(5)\n",
      "memory usage: 806.5+ KB\n"
     ]
    }
   ],
   "source": [
    "#rechecking if feilds are removed -- budget-adj and revenue_adg must not be present\n",
    "df.info()"
   ]
  },
  {
   "cell_type": "markdown",
   "metadata": {},
   "source": [
    "#### 3. Remove the duplicated entry"
   ]
  },
  {
   "cell_type": "code",
   "execution_count": 190,
   "metadata": {},
   "outputs": [
    {
     "data": {
      "text/plain": [
       "1"
      ]
     },
     "execution_count": 190,
     "metadata": {},
     "output_type": "execute_result"
    }
   ],
   "source": [
    "#rechecking if duplicated entry is present after the above cleaning operation\n",
    "df.duplicated().sum()"
   ]
  },
  {
   "cell_type": "code",
   "execution_count": 191,
   "metadata": {},
   "outputs": [],
   "source": [
    "#removing duplicated entry\n",
    "df.drop_duplicates(inplace=True)"
   ]
  },
  {
   "cell_type": "code",
   "execution_count": 193,
   "metadata": {
    "scrolled": true
   },
   "outputs": [
    {
     "data": {
      "text/plain": [
       "0"
      ]
     },
     "execution_count": 193,
     "metadata": {},
     "output_type": "execute_result"
    }
   ],
   "source": [
    "#cheking if duplicates are dropped -- sum must return 0\n",
    "df.duplicated().sum()"
   ]
  },
  {
   "cell_type": "markdown",
   "metadata": {},
   "source": [
    "#### 4. Drop the rows with null values"
   ]
  },
  {
   "cell_type": "code",
   "execution_count": 194,
   "metadata": {},
   "outputs": [],
   "source": [
    "df.dropna(inplace=True)"
   ]
  },
  {
   "cell_type": "code",
   "execution_count": 195,
   "metadata": {},
   "outputs": [
    {
     "data": {
      "text/plain": [
       "False"
      ]
     },
     "execution_count": 195,
     "metadata": {},
     "output_type": "execute_result"
    }
   ],
   "source": [
    "#check if any of the columns in the dataset have null value --must return False\n",
    "df.isnull().sum().any()"
   ]
  },
  {
   "cell_type": "code",
   "execution_count": 196,
   "metadata": {},
   "outputs": [
    {
     "name": "stdout",
     "output_type": "stream",
     "text": [
      "<class 'pandas.core.frame.DataFrame'>\n",
      "Int64Index: 9772 entries, 0 to 10865\n",
      "Data columns (total 12 columns):\n",
      " #   Column                Non-Null Count  Dtype  \n",
      "---  ------                --------------  -----  \n",
      " 0   popularity            9772 non-null   float64\n",
      " 1   budget                9772 non-null   int64  \n",
      " 2   revenue               9772 non-null   int64  \n",
      " 3   cast                  9772 non-null   object \n",
      " 4   director              9772 non-null   object \n",
      " 5   runtime               9772 non-null   int64  \n",
      " 6   genres                9772 non-null   object \n",
      " 7   production_companies  9772 non-null   object \n",
      " 8   release_date          9772 non-null   object \n",
      " 9   vote_count            9772 non-null   int64  \n",
      " 10  vote_average          9772 non-null   float64\n",
      " 11  release_year          9772 non-null   int64  \n",
      "dtypes: float64(2), int64(5), object(5)\n",
      "memory usage: 801.6+ KB\n"
     ]
    }
   ],
   "source": [
    "df.info()"
   ]
  },
  {
   "cell_type": "markdown",
   "metadata": {},
   "source": [
    "After removing the duplicate columns, 9772 entries are present but the index ranges from **0 to 10866**. Since we are perform index based operations in the future, we need to reset the index from 0 to 9771."
   ]
  },
  {
   "cell_type": "code",
   "execution_count": 197,
   "metadata": {},
   "outputs": [],
   "source": [
    "#resetting the index\n",
    "df.reset_index(inplace=True)"
   ]
  },
  {
   "cell_type": "code",
   "execution_count": 200,
   "metadata": {},
   "outputs": [
    {
     "name": "stdout",
     "output_type": "stream",
     "text": [
      "<class 'pandas.core.frame.DataFrame'>\n",
      "RangeIndex: 9772 entries, 0 to 9771\n",
      "Data columns (total 13 columns):\n",
      " #   Column                Non-Null Count  Dtype  \n",
      "---  ------                --------------  -----  \n",
      " 0   index                 9772 non-null   int64  \n",
      " 1   popularity            9772 non-null   float64\n",
      " 2   budget                9772 non-null   int64  \n",
      " 3   revenue               9772 non-null   int64  \n",
      " 4   cast                  9772 non-null   object \n",
      " 5   director              9772 non-null   object \n",
      " 6   runtime               9772 non-null   int64  \n",
      " 7   genres                9772 non-null   object \n",
      " 8   production_companies  9772 non-null   object \n",
      " 9   release_date          9772 non-null   object \n",
      " 10  vote_count            9772 non-null   int64  \n",
      " 11  vote_average          9772 non-null   float64\n",
      " 12  release_year          9772 non-null   int64  \n",
      "dtypes: float64(2), int64(6), object(5)\n",
      "memory usage: 801.7+ KB\n"
     ]
    }
   ],
   "source": [
    "#rechecking if index has been reset -- index range must be from 0 to 9771\n",
    "df.info()"
   ]
  },
  {
   "cell_type": "markdown",
   "metadata": {},
   "source": [
    "<a id='eda'></a>\n",
    "## Exploratory Data Analysis\n",
    "\n",
    "\n",
    "### Research Question 1 (Popularity of top genres from each year to year)"
   ]
  },
  {
   "cell_type": "markdown",
   "metadata": {
    "collapsed": true
   },
   "source": [
    "#### For this analysis we'll be concentrating on two independent variables(genre, year) and one dependent variable(popularity)"
   ]
  },
  {
   "cell_type": "code",
   "execution_count": 70,
   "metadata": {
    "scrolled": false
   },
   "outputs": [
    {
     "name": "stdout",
     "output_type": "stream",
     "text": [
      "0    2015\n",
      "1    2015\n",
      "2    2015\n",
      "3    2015\n",
      "4    2015\n",
      "Name: release_year, dtype: int64\n",
      "0    Action|Adventure|Science Fiction|Thriller\n",
      "1    Action|Adventure|Science Fiction|Thriller\n",
      "2           Adventure|Science Fiction|Thriller\n",
      "3     Action|Adventure|Science Fiction|Fantasy\n",
      "4                        Action|Crime|Thriller\n",
      "Name: genres, dtype: object\n",
      "0    32.985763\n",
      "1    28.419936\n",
      "2    13.112507\n",
      "3    11.173104\n",
      "4     9.335014\n",
      "Name: popularity, dtype: float64\n"
     ]
    }
   ],
   "source": [
    "#let's have a look at the first five entries of these variables\n",
    "print(df['release_year'][:5])\n",
    "print(df['genres'][:5])\n",
    "print(df['popularity'][:5])"
   ]
  },
  {
   "cell_type": "markdown",
   "metadata": {},
   "source": [
    "#### The release year and popularity seems to be fitting for further data analysis. But each row in genres belong to multiple categories. Hence we need to do some wrangling here."
   ]
  },
  {
   "cell_type": "code",
   "execution_count": 201,
   "metadata": {},
   "outputs": [],
   "source": [
    "#creating another column 'genres_corrected' that will have genres in lower case and space replaced by underscore\n",
    "df['genres_corrected'] = pd.Series(dtype=str)"
   ]
  },
  {
   "cell_type": "code",
   "execution_count": 202,
   "metadata": {},
   "outputs": [
    {
     "name": "stderr",
     "output_type": "stream",
     "text": [
      "C:\\ProgramData\\Anaconda3\\envs\\py3_env\\lib\\site-packages\\pandas\\core\\indexing.py:1637: SettingWithCopyWarning: \n",
      "A value is trying to be set on a copy of a slice from a DataFrame\n",
      "\n",
      "See the caveats in the documentation: https://pandas.pydata.org/pandas-docs/stable/user_guide/indexing.html#returning-a-view-versus-a-copy\n",
      "  self._setitem_single_block(indexer, value, name)\n"
     ]
    }
   ],
   "source": [
    "#going through each entries in genres, then converting them to lower case and replacing ' ' with '_'\n",
    "for index, genre in enumerate(df.genres):\n",
    "    df['genres_corrected'].iloc[index] = '|'.join([each.strip().lower().replace(' ', '_')  for each in genre.split('|')])"
   ]
  },
  {
   "cell_type": "code",
   "execution_count": 203,
   "metadata": {},
   "outputs": [
    {
     "data": {
      "text/plain": [
       "False"
      ]
     },
     "execution_count": 203,
     "metadata": {},
     "output_type": "execute_result"
    }
   ],
   "source": [
    "#checking if there's any null value present in the dataframe after the above operation -- must return False\n",
    "df.isnull().sum().any()"
   ]
  },
  {
   "cell_type": "code",
   "execution_count": 206,
   "metadata": {},
   "outputs": [
    {
     "data": {
      "text/html": [
       "<div>\n",
       "<style scoped>\n",
       "    .dataframe tbody tr th:only-of-type {\n",
       "        vertical-align: middle;\n",
       "    }\n",
       "\n",
       "    .dataframe tbody tr th {\n",
       "        vertical-align: top;\n",
       "    }\n",
       "\n",
       "    .dataframe thead th {\n",
       "        text-align: right;\n",
       "    }\n",
       "</style>\n",
       "<table border=\"1\" class=\"dataframe\">\n",
       "  <thead>\n",
       "    <tr style=\"text-align: right;\">\n",
       "      <th></th>\n",
       "      <th>index</th>\n",
       "      <th>popularity</th>\n",
       "      <th>budget</th>\n",
       "      <th>revenue</th>\n",
       "      <th>cast</th>\n",
       "      <th>director</th>\n",
       "      <th>runtime</th>\n",
       "      <th>genres</th>\n",
       "      <th>production_companies</th>\n",
       "      <th>release_date</th>\n",
       "      <th>vote_count</th>\n",
       "      <th>vote_average</th>\n",
       "      <th>release_year</th>\n",
       "      <th>genres_corrected</th>\n",
       "    </tr>\n",
       "  </thead>\n",
       "  <tbody>\n",
       "    <tr>\n",
       "      <th>0</th>\n",
       "      <td>0</td>\n",
       "      <td>32.985763</td>\n",
       "      <td>150000000</td>\n",
       "      <td>1513528810</td>\n",
       "      <td>Chris Pratt|Bryce Dallas Howard|Irrfan Khan|Vi...</td>\n",
       "      <td>Colin Trevorrow</td>\n",
       "      <td>124</td>\n",
       "      <td>Action|Adventure|Science Fiction|Thriller</td>\n",
       "      <td>Universal Studios|Amblin Entertainment|Legenda...</td>\n",
       "      <td>6/9/15</td>\n",
       "      <td>5562</td>\n",
       "      <td>6.5</td>\n",
       "      <td>2015</td>\n",
       "      <td>action|adventure|science_fiction|thriller</td>\n",
       "    </tr>\n",
       "    <tr>\n",
       "      <th>1</th>\n",
       "      <td>1</td>\n",
       "      <td>28.419936</td>\n",
       "      <td>150000000</td>\n",
       "      <td>378436354</td>\n",
       "      <td>Tom Hardy|Charlize Theron|Hugh Keays-Byrne|Nic...</td>\n",
       "      <td>George Miller</td>\n",
       "      <td>120</td>\n",
       "      <td>Action|Adventure|Science Fiction|Thriller</td>\n",
       "      <td>Village Roadshow Pictures|Kennedy Miller Produ...</td>\n",
       "      <td>5/13/15</td>\n",
       "      <td>6185</td>\n",
       "      <td>7.1</td>\n",
       "      <td>2015</td>\n",
       "      <td>action|adventure|science_fiction|thriller</td>\n",
       "    </tr>\n",
       "    <tr>\n",
       "      <th>2</th>\n",
       "      <td>2</td>\n",
       "      <td>13.112507</td>\n",
       "      <td>110000000</td>\n",
       "      <td>295238201</td>\n",
       "      <td>Shailene Woodley|Theo James|Kate Winslet|Ansel...</td>\n",
       "      <td>Robert Schwentke</td>\n",
       "      <td>119</td>\n",
       "      <td>Adventure|Science Fiction|Thriller</td>\n",
       "      <td>Summit Entertainment|Mandeville Films|Red Wago...</td>\n",
       "      <td>3/18/15</td>\n",
       "      <td>2480</td>\n",
       "      <td>6.3</td>\n",
       "      <td>2015</td>\n",
       "      <td>adventure|science_fiction|thriller</td>\n",
       "    </tr>\n",
       "  </tbody>\n",
       "</table>\n",
       "</div>"
      ],
      "text/plain": [
       "   index  popularity     budget     revenue  \\\n",
       "0      0   32.985763  150000000  1513528810   \n",
       "1      1   28.419936  150000000   378436354   \n",
       "2      2   13.112507  110000000   295238201   \n",
       "\n",
       "                                                cast          director  \\\n",
       "0  Chris Pratt|Bryce Dallas Howard|Irrfan Khan|Vi...   Colin Trevorrow   \n",
       "1  Tom Hardy|Charlize Theron|Hugh Keays-Byrne|Nic...     George Miller   \n",
       "2  Shailene Woodley|Theo James|Kate Winslet|Ansel...  Robert Schwentke   \n",
       "\n",
       "   runtime                                     genres  \\\n",
       "0      124  Action|Adventure|Science Fiction|Thriller   \n",
       "1      120  Action|Adventure|Science Fiction|Thriller   \n",
       "2      119         Adventure|Science Fiction|Thriller   \n",
       "\n",
       "                                production_companies release_date  vote_count  \\\n",
       "0  Universal Studios|Amblin Entertainment|Legenda...       6/9/15        5562   \n",
       "1  Village Roadshow Pictures|Kennedy Miller Produ...      5/13/15        6185   \n",
       "2  Summit Entertainment|Mandeville Films|Red Wago...      3/18/15        2480   \n",
       "\n",
       "   vote_average  release_year                           genres_corrected  \n",
       "0           6.5          2015  action|adventure|science_fiction|thriller  \n",
       "1           7.1          2015  action|adventure|science_fiction|thriller  \n",
       "2           6.3          2015         adventure|science_fiction|thriller  "
      ]
     },
     "execution_count": 206,
     "metadata": {},
     "output_type": "execute_result"
    }
   ],
   "source": [
    "#checking for corrected genre format for first three, 3 random middle and last three entries.\n",
    "df.head(3)"
   ]
  },
  {
   "cell_type": "code",
   "execution_count": 212,
   "metadata": {
    "scrolled": true
   },
   "outputs": [
    {
     "data": {
      "text/html": [
       "<div>\n",
       "<style scoped>\n",
       "    .dataframe tbody tr th:only-of-type {\n",
       "        vertical-align: middle;\n",
       "    }\n",
       "\n",
       "    .dataframe tbody tr th {\n",
       "        vertical-align: top;\n",
       "    }\n",
       "\n",
       "    .dataframe thead th {\n",
       "        text-align: right;\n",
       "    }\n",
       "</style>\n",
       "<table border=\"1\" class=\"dataframe\">\n",
       "  <thead>\n",
       "    <tr style=\"text-align: right;\">\n",
       "      <th></th>\n",
       "      <th>index</th>\n",
       "      <th>popularity</th>\n",
       "      <th>budget</th>\n",
       "      <th>revenue</th>\n",
       "      <th>cast</th>\n",
       "      <th>director</th>\n",
       "      <th>runtime</th>\n",
       "      <th>genres</th>\n",
       "      <th>production_companies</th>\n",
       "      <th>release_date</th>\n",
       "      <th>vote_count</th>\n",
       "      <th>vote_average</th>\n",
       "      <th>release_year</th>\n",
       "      <th>genres_corrected</th>\n",
       "    </tr>\n",
       "  </thead>\n",
       "  <tbody>\n",
       "    <tr>\n",
       "      <th>577</th>\n",
       "      <td>648</td>\n",
       "      <td>4.983782</td>\n",
       "      <td>210000000</td>\n",
       "      <td>245500000</td>\n",
       "      <td>Mark Wahlberg|Stanley Tucci|Nicola Peltz|Jack ...</td>\n",
       "      <td>Michael Bay</td>\n",
       "      <td>165</td>\n",
       "      <td>Science Fiction|Action|Adventure</td>\n",
       "      <td>Paramount Pictures|Amblin Entertainment|Di Bon...</td>\n",
       "      <td>6/25/14</td>\n",
       "      <td>2161</td>\n",
       "      <td>5.9</td>\n",
       "      <td>2014</td>\n",
       "      <td>science_fiction|action|adventure</td>\n",
       "    </tr>\n",
       "    <tr>\n",
       "      <th>578</th>\n",
       "      <td>649</td>\n",
       "      <td>4.930820</td>\n",
       "      <td>30000000</td>\n",
       "      <td>174600318</td>\n",
       "      <td>Ralph Fiennes|Tony Revolori|F. Murray Abraham|...</td>\n",
       "      <td>Wes Anderson</td>\n",
       "      <td>99</td>\n",
       "      <td>Comedy|Drama</td>\n",
       "      <td>Fox Searchlight Pictures|Scott Rudin Productio...</td>\n",
       "      <td>2/26/14</td>\n",
       "      <td>2802</td>\n",
       "      <td>7.9</td>\n",
       "      <td>2014</td>\n",
       "      <td>comedy|drama</td>\n",
       "    </tr>\n",
       "    <tr>\n",
       "      <th>579</th>\n",
       "      <td>650</td>\n",
       "      <td>4.780419</td>\n",
       "      <td>3300000</td>\n",
       "      <td>13993093</td>\n",
       "      <td>Miles Teller|J.K. Simmons|Melissa Benoist|Aust...</td>\n",
       "      <td>Damien Chazelle</td>\n",
       "      <td>105</td>\n",
       "      <td>Drama|Music</td>\n",
       "      <td>Bold Films|Blumhouse Productions|Right of Way ...</td>\n",
       "      <td>10/10/14</td>\n",
       "      <td>2372</td>\n",
       "      <td>8.2</td>\n",
       "      <td>2014</td>\n",
       "      <td>drama|music</td>\n",
       "    </tr>\n",
       "  </tbody>\n",
       "</table>\n",
       "</div>"
      ],
      "text/plain": [
       "     index  popularity     budget    revenue  \\\n",
       "577    648    4.983782  210000000  245500000   \n",
       "578    649    4.930820   30000000  174600318   \n",
       "579    650    4.780419    3300000   13993093   \n",
       "\n",
       "                                                  cast         director  \\\n",
       "577  Mark Wahlberg|Stanley Tucci|Nicola Peltz|Jack ...      Michael Bay   \n",
       "578  Ralph Fiennes|Tony Revolori|F. Murray Abraham|...     Wes Anderson   \n",
       "579  Miles Teller|J.K. Simmons|Melissa Benoist|Aust...  Damien Chazelle   \n",
       "\n",
       "     runtime                            genres  \\\n",
       "577      165  Science Fiction|Action|Adventure   \n",
       "578       99                      Comedy|Drama   \n",
       "579      105                       Drama|Music   \n",
       "\n",
       "                                  production_companies release_date  \\\n",
       "577  Paramount Pictures|Amblin Entertainment|Di Bon...      6/25/14   \n",
       "578  Fox Searchlight Pictures|Scott Rudin Productio...      2/26/14   \n",
       "579  Bold Films|Blumhouse Productions|Right of Way ...     10/10/14   \n",
       "\n",
       "     vote_count  vote_average  release_year                  genres_corrected  \n",
       "577        2161           5.9          2014  science_fiction|action|adventure  \n",
       "578        2802           7.9          2014                      comedy|drama  \n",
       "579        2372           8.2          2014                       drama|music  "
      ]
     },
     "execution_count": 212,
     "metadata": {},
     "output_type": "execute_result"
    }
   ],
   "source": [
    "#checking for random middle entries\n",
    "df.iloc[577:580]"
   ]
  },
  {
   "cell_type": "code",
   "execution_count": 213,
   "metadata": {},
   "outputs": [
    {
     "data": {
      "text/html": [
       "<div>\n",
       "<style scoped>\n",
       "    .dataframe tbody tr th:only-of-type {\n",
       "        vertical-align: middle;\n",
       "    }\n",
       "\n",
       "    .dataframe tbody tr th {\n",
       "        vertical-align: top;\n",
       "    }\n",
       "\n",
       "    .dataframe thead th {\n",
       "        text-align: right;\n",
       "    }\n",
       "</style>\n",
       "<table border=\"1\" class=\"dataframe\">\n",
       "  <thead>\n",
       "    <tr style=\"text-align: right;\">\n",
       "      <th></th>\n",
       "      <th>index</th>\n",
       "      <th>popularity</th>\n",
       "      <th>budget</th>\n",
       "      <th>revenue</th>\n",
       "      <th>cast</th>\n",
       "      <th>director</th>\n",
       "      <th>runtime</th>\n",
       "      <th>genres</th>\n",
       "      <th>production_companies</th>\n",
       "      <th>release_date</th>\n",
       "      <th>vote_count</th>\n",
       "      <th>vote_average</th>\n",
       "      <th>release_year</th>\n",
       "      <th>genres_corrected</th>\n",
       "    </tr>\n",
       "  </thead>\n",
       "  <tbody>\n",
       "    <tr>\n",
       "      <th>9769</th>\n",
       "      <td>10863</td>\n",
       "      <td>0.065141</td>\n",
       "      <td>0</td>\n",
       "      <td>0</td>\n",
       "      <td>Innokentiy Smoktunovskiy|Oleg Efremov|Georgi Z...</td>\n",
       "      <td>Eldar Ryazanov</td>\n",
       "      <td>94</td>\n",
       "      <td>Mystery|Comedy</td>\n",
       "      <td>Mosfilm</td>\n",
       "      <td>1/1/66</td>\n",
       "      <td>11</td>\n",
       "      <td>6.5</td>\n",
       "      <td>1966</td>\n",
       "      <td>mystery|comedy</td>\n",
       "    </tr>\n",
       "    <tr>\n",
       "      <th>9770</th>\n",
       "      <td>10864</td>\n",
       "      <td>0.064317</td>\n",
       "      <td>0</td>\n",
       "      <td>0</td>\n",
       "      <td>Tatsuya Mihashi|Akiko Wakabayashi|Mie Hama|Joh...</td>\n",
       "      <td>Woody Allen</td>\n",
       "      <td>80</td>\n",
       "      <td>Action|Comedy</td>\n",
       "      <td>Benedict Pictures Corp.</td>\n",
       "      <td>11/2/66</td>\n",
       "      <td>22</td>\n",
       "      <td>5.4</td>\n",
       "      <td>1966</td>\n",
       "      <td>action|comedy</td>\n",
       "    </tr>\n",
       "    <tr>\n",
       "      <th>9771</th>\n",
       "      <td>10865</td>\n",
       "      <td>0.035919</td>\n",
       "      <td>19000</td>\n",
       "      <td>0</td>\n",
       "      <td>Harold P. Warren|Tom Neyman|John Reynolds|Dian...</td>\n",
       "      <td>Harold P. Warren</td>\n",
       "      <td>74</td>\n",
       "      <td>Horror</td>\n",
       "      <td>Norm-Iris</td>\n",
       "      <td>11/15/66</td>\n",
       "      <td>15</td>\n",
       "      <td>1.5</td>\n",
       "      <td>1966</td>\n",
       "      <td>horror</td>\n",
       "    </tr>\n",
       "  </tbody>\n",
       "</table>\n",
       "</div>"
      ],
      "text/plain": [
       "      index  popularity  budget  revenue  \\\n",
       "9769  10863    0.065141       0        0   \n",
       "9770  10864    0.064317       0        0   \n",
       "9771  10865    0.035919   19000        0   \n",
       "\n",
       "                                                   cast          director  \\\n",
       "9769  Innokentiy Smoktunovskiy|Oleg Efremov|Georgi Z...    Eldar Ryazanov   \n",
       "9770  Tatsuya Mihashi|Akiko Wakabayashi|Mie Hama|Joh...       Woody Allen   \n",
       "9771  Harold P. Warren|Tom Neyman|John Reynolds|Dian...  Harold P. Warren   \n",
       "\n",
       "      runtime          genres     production_companies release_date  \\\n",
       "9769       94  Mystery|Comedy                  Mosfilm       1/1/66   \n",
       "9770       80   Action|Comedy  Benedict Pictures Corp.      11/2/66   \n",
       "9771       74          Horror                Norm-Iris     11/15/66   \n",
       "\n",
       "      vote_count  vote_average  release_year genres_corrected  \n",
       "9769          11           6.5          1966   mystery|comedy  \n",
       "9770          22           5.4          1966    action|comedy  \n",
       "9771          15           1.5          1966           horror  "
      ]
     },
     "execution_count": 213,
     "metadata": {},
     "output_type": "execute_result"
    }
   ],
   "source": [
    "#checking for the last three entries\n",
    "df.tail(3)"
   ]
  },
  {
   "cell_type": "markdown",
   "metadata": {},
   "source": [
    "Each movie in the data frame belongs to multiple genres. Hence we'll create an indicator data frame by following the below methods.\n",
    "<ol>\n",
    "    <li> Find out all the unique genres present in the data</li>\n",
    "    <li> Create an initial indicator data frame of (shape= len(main_data), len(all_unique_genres)) will all entries as zeros</li>\n",
    "    <li> Go through each corrected genre entry in the data frame and for each genre, add entry as 1 in the corresponding genre column in the indicator data frame</li>\n",
    "    <li> Join the indicator_df with the main data frame</li>\n",
    "</ol>"
   ]
  },
  {
   "cell_type": "code",
   "execution_count": 214,
   "metadata": {},
   "outputs": [],
   "source": [
    "#1. finding all the genres in data table\n",
    "genres_all = (set(genre.split('|')) for genre in df.genres_corrected)"
   ]
  },
  {
   "cell_type": "code",
   "execution_count": 215,
   "metadata": {},
   "outputs": [],
   "source": [
    "genres = set.union(*genres_all)"
   ]
  },
  {
   "cell_type": "code",
   "execution_count": 216,
   "metadata": {
    "scrolled": true
   },
   "outputs": [
    {
     "data": {
      "text/plain": [
       "{'action',\n",
       " 'adventure',\n",
       " 'animation',\n",
       " 'comedy',\n",
       " 'crime',\n",
       " 'documentary',\n",
       " 'drama',\n",
       " 'family',\n",
       " 'fantasy',\n",
       " 'foreign',\n",
       " 'history',\n",
       " 'horror',\n",
       " 'music',\n",
       " 'mystery',\n",
       " 'romance',\n",
       " 'science_fiction',\n",
       " 'thriller',\n",
       " 'tv_movie',\n",
       " 'war',\n",
       " 'western'}"
      ]
     },
     "execution_count": 216,
     "metadata": {},
     "output_type": "execute_result"
    }
   ],
   "source": [
    "genres"
   ]
  },
  {
   "cell_type": "code",
   "execution_count": 217,
   "metadata": {},
   "outputs": [],
   "source": [
    "#2. Creating an indicator data frame with all zeros as default value\n",
    "indicator_df = pd.DataFrame(np.zeros((df.shape[0], len(genres)), dtype='int'), columns=genres)"
   ]
  },
  {
   "cell_type": "code",
   "execution_count": 218,
   "metadata": {},
   "outputs": [
    {
     "data": {
      "text/plain": [
       "(9772, 20)"
      ]
     },
     "execution_count": 218,
     "metadata": {},
     "output_type": "execute_result"
    }
   ],
   "source": [
    "#checking the shape of indicator data frame -- must be 9772,20\n",
    "indicator_df.shape"
   ]
  },
  {
   "cell_type": "code",
   "execution_count": 219,
   "metadata": {},
   "outputs": [],
   "source": [
    "#3. Going through each corrected genre entry in the data frame and for each genre found, adding entry as 1\n",
    "#in the corresponding genre column in the indicator data frame\n",
    "for index, genre in enumerate(df.genres_corrected):\n",
    "    indicator_df.loc[index, genre.split('|')] = 1"
   ]
  },
  {
   "cell_type": "code",
   "execution_count": 220,
   "metadata": {},
   "outputs": [
    {
     "data": {
      "text/html": [
       "<div>\n",
       "<style scoped>\n",
       "    .dataframe tbody tr th:only-of-type {\n",
       "        vertical-align: middle;\n",
       "    }\n",
       "\n",
       "    .dataframe tbody tr th {\n",
       "        vertical-align: top;\n",
       "    }\n",
       "\n",
       "    .dataframe thead th {\n",
       "        text-align: right;\n",
       "    }\n",
       "</style>\n",
       "<table border=\"1\" class=\"dataframe\">\n",
       "  <thead>\n",
       "    <tr style=\"text-align: right;\">\n",
       "      <th></th>\n",
       "      <th>western</th>\n",
       "      <th>mystery</th>\n",
       "      <th>thriller</th>\n",
       "      <th>documentary</th>\n",
       "      <th>animation</th>\n",
       "      <th>comedy</th>\n",
       "      <th>action</th>\n",
       "      <th>family</th>\n",
       "      <th>crime</th>\n",
       "      <th>fantasy</th>\n",
       "      <th>war</th>\n",
       "      <th>music</th>\n",
       "      <th>horror</th>\n",
       "      <th>romance</th>\n",
       "      <th>tv_movie</th>\n",
       "      <th>history</th>\n",
       "      <th>drama</th>\n",
       "      <th>science_fiction</th>\n",
       "      <th>foreign</th>\n",
       "      <th>adventure</th>\n",
       "    </tr>\n",
       "  </thead>\n",
       "  <tbody>\n",
       "    <tr>\n",
       "      <th>0</th>\n",
       "      <td>0</td>\n",
       "      <td>0</td>\n",
       "      <td>1</td>\n",
       "      <td>0</td>\n",
       "      <td>0</td>\n",
       "      <td>0</td>\n",
       "      <td>1</td>\n",
       "      <td>0</td>\n",
       "      <td>0</td>\n",
       "      <td>0</td>\n",
       "      <td>0</td>\n",
       "      <td>0</td>\n",
       "      <td>0</td>\n",
       "      <td>0</td>\n",
       "      <td>0</td>\n",
       "      <td>0</td>\n",
       "      <td>0</td>\n",
       "      <td>1</td>\n",
       "      <td>0</td>\n",
       "      <td>1</td>\n",
       "    </tr>\n",
       "    <tr>\n",
       "      <th>1</th>\n",
       "      <td>0</td>\n",
       "      <td>0</td>\n",
       "      <td>1</td>\n",
       "      <td>0</td>\n",
       "      <td>0</td>\n",
       "      <td>0</td>\n",
       "      <td>1</td>\n",
       "      <td>0</td>\n",
       "      <td>0</td>\n",
       "      <td>0</td>\n",
       "      <td>0</td>\n",
       "      <td>0</td>\n",
       "      <td>0</td>\n",
       "      <td>0</td>\n",
       "      <td>0</td>\n",
       "      <td>0</td>\n",
       "      <td>0</td>\n",
       "      <td>1</td>\n",
       "      <td>0</td>\n",
       "      <td>1</td>\n",
       "    </tr>\n",
       "    <tr>\n",
       "      <th>2</th>\n",
       "      <td>0</td>\n",
       "      <td>0</td>\n",
       "      <td>1</td>\n",
       "      <td>0</td>\n",
       "      <td>0</td>\n",
       "      <td>0</td>\n",
       "      <td>0</td>\n",
       "      <td>0</td>\n",
       "      <td>0</td>\n",
       "      <td>0</td>\n",
       "      <td>0</td>\n",
       "      <td>0</td>\n",
       "      <td>0</td>\n",
       "      <td>0</td>\n",
       "      <td>0</td>\n",
       "      <td>0</td>\n",
       "      <td>0</td>\n",
       "      <td>1</td>\n",
       "      <td>0</td>\n",
       "      <td>1</td>\n",
       "    </tr>\n",
       "    <tr>\n",
       "      <th>3</th>\n",
       "      <td>0</td>\n",
       "      <td>0</td>\n",
       "      <td>0</td>\n",
       "      <td>0</td>\n",
       "      <td>0</td>\n",
       "      <td>0</td>\n",
       "      <td>1</td>\n",
       "      <td>0</td>\n",
       "      <td>0</td>\n",
       "      <td>1</td>\n",
       "      <td>0</td>\n",
       "      <td>0</td>\n",
       "      <td>0</td>\n",
       "      <td>0</td>\n",
       "      <td>0</td>\n",
       "      <td>0</td>\n",
       "      <td>0</td>\n",
       "      <td>1</td>\n",
       "      <td>0</td>\n",
       "      <td>1</td>\n",
       "    </tr>\n",
       "    <tr>\n",
       "      <th>4</th>\n",
       "      <td>0</td>\n",
       "      <td>0</td>\n",
       "      <td>1</td>\n",
       "      <td>0</td>\n",
       "      <td>0</td>\n",
       "      <td>0</td>\n",
       "      <td>1</td>\n",
       "      <td>0</td>\n",
       "      <td>1</td>\n",
       "      <td>0</td>\n",
       "      <td>0</td>\n",
       "      <td>0</td>\n",
       "      <td>0</td>\n",
       "      <td>0</td>\n",
       "      <td>0</td>\n",
       "      <td>0</td>\n",
       "      <td>0</td>\n",
       "      <td>0</td>\n",
       "      <td>0</td>\n",
       "      <td>0</td>\n",
       "    </tr>\n",
       "  </tbody>\n",
       "</table>\n",
       "</div>"
      ],
      "text/plain": [
       "   western  mystery  thriller  documentary  animation  comedy  action  family  \\\n",
       "0        0        0         1            0          0       0       1       0   \n",
       "1        0        0         1            0          0       0       1       0   \n",
       "2        0        0         1            0          0       0       0       0   \n",
       "3        0        0         0            0          0       0       1       0   \n",
       "4        0        0         1            0          0       0       1       0   \n",
       "\n",
       "   crime  fantasy  war  music  horror  romance  tv_movie  history  drama  \\\n",
       "0      0        0    0      0       0        0         0        0      0   \n",
       "1      0        0    0      0       0        0         0        0      0   \n",
       "2      0        0    0      0       0        0         0        0      0   \n",
       "3      0        1    0      0       0        0         0        0      0   \n",
       "4      1        0    0      0       0        0         0        0      0   \n",
       "\n",
       "   science_fiction  foreign  adventure  \n",
       "0                1        0          1  \n",
       "1                1        0          1  \n",
       "2                1        0          1  \n",
       "3                1        0          1  \n",
       "4                0        0          0  "
      ]
     },
     "execution_count": 220,
     "metadata": {},
     "output_type": "execute_result"
    }
   ],
   "source": [
    "indicator_df.head()"
   ]
  },
  {
   "cell_type": "code",
   "execution_count": 222,
   "metadata": {},
   "outputs": [
    {
     "name": "stdout",
     "output_type": "stream",
     "text": [
      "0    action|adventure|science_fiction|thriller\n",
      "1    action|adventure|science_fiction|thriller\n",
      "2           adventure|science_fiction|thriller\n",
      "Name: genres_corrected, dtype: object\n"
     ]
    },
    {
     "data": {
      "text/html": [
       "<div>\n",
       "<style scoped>\n",
       "    .dataframe tbody tr th:only-of-type {\n",
       "        vertical-align: middle;\n",
       "    }\n",
       "\n",
       "    .dataframe tbody tr th {\n",
       "        vertical-align: top;\n",
       "    }\n",
       "\n",
       "    .dataframe thead th {\n",
       "        text-align: right;\n",
       "    }\n",
       "</style>\n",
       "<table border=\"1\" class=\"dataframe\">\n",
       "  <thead>\n",
       "    <tr style=\"text-align: right;\">\n",
       "      <th></th>\n",
       "      <th>western</th>\n",
       "      <th>mystery</th>\n",
       "      <th>thriller</th>\n",
       "      <th>documentary</th>\n",
       "      <th>animation</th>\n",
       "      <th>comedy</th>\n",
       "      <th>action</th>\n",
       "      <th>family</th>\n",
       "      <th>crime</th>\n",
       "      <th>fantasy</th>\n",
       "      <th>war</th>\n",
       "      <th>music</th>\n",
       "      <th>horror</th>\n",
       "      <th>romance</th>\n",
       "      <th>tv_movie</th>\n",
       "      <th>history</th>\n",
       "      <th>drama</th>\n",
       "      <th>science_fiction</th>\n",
       "      <th>foreign</th>\n",
       "      <th>adventure</th>\n",
       "    </tr>\n",
       "  </thead>\n",
       "  <tbody>\n",
       "    <tr>\n",
       "      <th>0</th>\n",
       "      <td>0</td>\n",
       "      <td>0</td>\n",
       "      <td>1</td>\n",
       "      <td>0</td>\n",
       "      <td>0</td>\n",
       "      <td>0</td>\n",
       "      <td>1</td>\n",
       "      <td>0</td>\n",
       "      <td>0</td>\n",
       "      <td>0</td>\n",
       "      <td>0</td>\n",
       "      <td>0</td>\n",
       "      <td>0</td>\n",
       "      <td>0</td>\n",
       "      <td>0</td>\n",
       "      <td>0</td>\n",
       "      <td>0</td>\n",
       "      <td>1</td>\n",
       "      <td>0</td>\n",
       "      <td>1</td>\n",
       "    </tr>\n",
       "    <tr>\n",
       "      <th>1</th>\n",
       "      <td>0</td>\n",
       "      <td>0</td>\n",
       "      <td>1</td>\n",
       "      <td>0</td>\n",
       "      <td>0</td>\n",
       "      <td>0</td>\n",
       "      <td>1</td>\n",
       "      <td>0</td>\n",
       "      <td>0</td>\n",
       "      <td>0</td>\n",
       "      <td>0</td>\n",
       "      <td>0</td>\n",
       "      <td>0</td>\n",
       "      <td>0</td>\n",
       "      <td>0</td>\n",
       "      <td>0</td>\n",
       "      <td>0</td>\n",
       "      <td>1</td>\n",
       "      <td>0</td>\n",
       "      <td>1</td>\n",
       "    </tr>\n",
       "    <tr>\n",
       "      <th>2</th>\n",
       "      <td>0</td>\n",
       "      <td>0</td>\n",
       "      <td>1</td>\n",
       "      <td>0</td>\n",
       "      <td>0</td>\n",
       "      <td>0</td>\n",
       "      <td>0</td>\n",
       "      <td>0</td>\n",
       "      <td>0</td>\n",
       "      <td>0</td>\n",
       "      <td>0</td>\n",
       "      <td>0</td>\n",
       "      <td>0</td>\n",
       "      <td>0</td>\n",
       "      <td>0</td>\n",
       "      <td>0</td>\n",
       "      <td>0</td>\n",
       "      <td>1</td>\n",
       "      <td>0</td>\n",
       "      <td>1</td>\n",
       "    </tr>\n",
       "  </tbody>\n",
       "</table>\n",
       "</div>"
      ],
      "text/plain": [
       "   western  mystery  thriller  documentary  animation  comedy  action  family  \\\n",
       "0        0        0         1            0          0       0       1       0   \n",
       "1        0        0         1            0          0       0       1       0   \n",
       "2        0        0         1            0          0       0       0       0   \n",
       "\n",
       "   crime  fantasy  war  music  horror  romance  tv_movie  history  drama  \\\n",
       "0      0        0    0      0       0        0         0        0      0   \n",
       "1      0        0    0      0       0        0         0        0      0   \n",
       "2      0        0    0      0       0        0         0        0      0   \n",
       "\n",
       "   science_fiction  foreign  adventure  \n",
       "0                1        0          1  \n",
       "1                1        0          1  \n",
       "2                1        0          1  "
      ]
     },
     "execution_count": 222,
     "metadata": {},
     "output_type": "execute_result"
    }
   ],
   "source": [
    "#checking first few corrected genre element with the indicator_df. The genres must be split and the corresponding columns in the indicator_df\n",
    "#must have entries as 1\n",
    "print(df.genres_corrected[0:3])\n",
    "indicator_df.head(3)"
   ]
  },
  {
   "cell_type": "code",
   "execution_count": 223,
   "metadata": {},
   "outputs": [],
   "source": [
    "#combining indicator_df with the original table df\n",
    "df_genres = df.join(indicator_df.add_prefix('genre_'))"
   ]
  },
  {
   "cell_type": "code",
   "execution_count": 225,
   "metadata": {},
   "outputs": [
    {
     "data": {
      "text/plain": [
       "(9772, 34)"
      ]
     },
     "execution_count": 225,
     "metadata": {},
     "output_type": "execute_result"
    }
   ],
   "source": [
    "#checking number of rows and columns of created dataframe -- must be 9772,34\n",
    "df_genres.shape"
   ]
  },
  {
   "cell_type": "code",
   "execution_count": 226,
   "metadata": {},
   "outputs": [
    {
     "data": {
      "text/html": [
       "<div>\n",
       "<style scoped>\n",
       "    .dataframe tbody tr th:only-of-type {\n",
       "        vertical-align: middle;\n",
       "    }\n",
       "\n",
       "    .dataframe tbody tr th {\n",
       "        vertical-align: top;\n",
       "    }\n",
       "\n",
       "    .dataframe thead th {\n",
       "        text-align: right;\n",
       "    }\n",
       "</style>\n",
       "<table border=\"1\" class=\"dataframe\">\n",
       "  <thead>\n",
       "    <tr style=\"text-align: right;\">\n",
       "      <th></th>\n",
       "      <th>index</th>\n",
       "      <th>popularity</th>\n",
       "      <th>budget</th>\n",
       "      <th>revenue</th>\n",
       "      <th>cast</th>\n",
       "      <th>director</th>\n",
       "      <th>runtime</th>\n",
       "      <th>genres</th>\n",
       "      <th>production_companies</th>\n",
       "      <th>release_date</th>\n",
       "      <th>...</th>\n",
       "      <th>genre_war</th>\n",
       "      <th>genre_music</th>\n",
       "      <th>genre_horror</th>\n",
       "      <th>genre_romance</th>\n",
       "      <th>genre_tv_movie</th>\n",
       "      <th>genre_history</th>\n",
       "      <th>genre_drama</th>\n",
       "      <th>genre_science_fiction</th>\n",
       "      <th>genre_foreign</th>\n",
       "      <th>genre_adventure</th>\n",
       "    </tr>\n",
       "  </thead>\n",
       "  <tbody>\n",
       "    <tr>\n",
       "      <th>0</th>\n",
       "      <td>0</td>\n",
       "      <td>32.985763</td>\n",
       "      <td>150000000</td>\n",
       "      <td>1513528810</td>\n",
       "      <td>Chris Pratt|Bryce Dallas Howard|Irrfan Khan|Vi...</td>\n",
       "      <td>Colin Trevorrow</td>\n",
       "      <td>124</td>\n",
       "      <td>Action|Adventure|Science Fiction|Thriller</td>\n",
       "      <td>Universal Studios|Amblin Entertainment|Legenda...</td>\n",
       "      <td>6/9/15</td>\n",
       "      <td>...</td>\n",
       "      <td>0</td>\n",
       "      <td>0</td>\n",
       "      <td>0</td>\n",
       "      <td>0</td>\n",
       "      <td>0</td>\n",
       "      <td>0</td>\n",
       "      <td>0</td>\n",
       "      <td>1</td>\n",
       "      <td>0</td>\n",
       "      <td>1</td>\n",
       "    </tr>\n",
       "    <tr>\n",
       "      <th>1</th>\n",
       "      <td>1</td>\n",
       "      <td>28.419936</td>\n",
       "      <td>150000000</td>\n",
       "      <td>378436354</td>\n",
       "      <td>Tom Hardy|Charlize Theron|Hugh Keays-Byrne|Nic...</td>\n",
       "      <td>George Miller</td>\n",
       "      <td>120</td>\n",
       "      <td>Action|Adventure|Science Fiction|Thriller</td>\n",
       "      <td>Village Roadshow Pictures|Kennedy Miller Produ...</td>\n",
       "      <td>5/13/15</td>\n",
       "      <td>...</td>\n",
       "      <td>0</td>\n",
       "      <td>0</td>\n",
       "      <td>0</td>\n",
       "      <td>0</td>\n",
       "      <td>0</td>\n",
       "      <td>0</td>\n",
       "      <td>0</td>\n",
       "      <td>1</td>\n",
       "      <td>0</td>\n",
       "      <td>1</td>\n",
       "    </tr>\n",
       "  </tbody>\n",
       "</table>\n",
       "<p>2 rows × 34 columns</p>\n",
       "</div>"
      ],
      "text/plain": [
       "   index  popularity     budget     revenue  \\\n",
       "0      0   32.985763  150000000  1513528810   \n",
       "1      1   28.419936  150000000   378436354   \n",
       "\n",
       "                                                cast         director  \\\n",
       "0  Chris Pratt|Bryce Dallas Howard|Irrfan Khan|Vi...  Colin Trevorrow   \n",
       "1  Tom Hardy|Charlize Theron|Hugh Keays-Byrne|Nic...    George Miller   \n",
       "\n",
       "   runtime                                     genres  \\\n",
       "0      124  Action|Adventure|Science Fiction|Thriller   \n",
       "1      120  Action|Adventure|Science Fiction|Thriller   \n",
       "\n",
       "                                production_companies release_date  ...  \\\n",
       "0  Universal Studios|Amblin Entertainment|Legenda...       6/9/15  ...   \n",
       "1  Village Roadshow Pictures|Kennedy Miller Produ...      5/13/15  ...   \n",
       "\n",
       "   genre_war  genre_music  genre_horror genre_romance  genre_tv_movie  \\\n",
       "0          0            0             0             0               0   \n",
       "1          0            0             0             0               0   \n",
       "\n",
       "   genre_history  genre_drama  genre_science_fiction  genre_foreign  \\\n",
       "0              0            0                      1              0   \n",
       "1              0            0                      1              0   \n",
       "\n",
       "   genre_adventure  \n",
       "0                1  \n",
       "1                1  \n",
       "\n",
       "[2 rows x 34 columns]"
      ]
     },
     "execution_count": 226,
     "metadata": {},
     "output_type": "execute_result"
    }
   ],
   "source": [
    "#checking for first two entries\n",
    "df_genres.head(2)"
   ]
  },
  {
   "cell_type": "code",
   "execution_count": 227,
   "metadata": {},
   "outputs": [
    {
     "name": "stdout",
     "output_type": "stream",
     "text": [
      "<class 'pandas.core.frame.DataFrame'>\n",
      "RangeIndex: 9772 entries, 0 to 9771\n",
      "Data columns (total 34 columns):\n",
      " #   Column                 Non-Null Count  Dtype  \n",
      "---  ------                 --------------  -----  \n",
      " 0   index                  9772 non-null   int64  \n",
      " 1   popularity             9772 non-null   float64\n",
      " 2   budget                 9772 non-null   int64  \n",
      " 3   revenue                9772 non-null   int64  \n",
      " 4   cast                   9772 non-null   object \n",
      " 5   director               9772 non-null   object \n",
      " 6   runtime                9772 non-null   int64  \n",
      " 7   genres                 9772 non-null   object \n",
      " 8   production_companies   9772 non-null   object \n",
      " 9   release_date           9772 non-null   object \n",
      " 10  vote_count             9772 non-null   int64  \n",
      " 11  vote_average           9772 non-null   float64\n",
      " 12  release_year           9772 non-null   int64  \n",
      " 13  genres_corrected       9772 non-null   object \n",
      " 14  genre_western          9772 non-null   int32  \n",
      " 15  genre_mystery          9772 non-null   int32  \n",
      " 16  genre_thriller         9772 non-null   int32  \n",
      " 17  genre_documentary      9772 non-null   int32  \n",
      " 18  genre_animation        9772 non-null   int32  \n",
      " 19  genre_comedy           9772 non-null   int32  \n",
      " 20  genre_action           9772 non-null   int32  \n",
      " 21  genre_family           9772 non-null   int32  \n",
      " 22  genre_crime            9772 non-null   int32  \n",
      " 23  genre_fantasy          9772 non-null   int32  \n",
      " 24  genre_war              9772 non-null   int32  \n",
      " 25  genre_music            9772 non-null   int32  \n",
      " 26  genre_horror           9772 non-null   int32  \n",
      " 27  genre_romance          9772 non-null   int32  \n",
      " 28  genre_tv_movie         9772 non-null   int32  \n",
      " 29  genre_history          9772 non-null   int32  \n",
      " 30  genre_drama            9772 non-null   int32  \n",
      " 31  genre_science_fiction  9772 non-null   int32  \n",
      " 32  genre_foreign          9772 non-null   int32  \n",
      " 33  genre_adventure        9772 non-null   int32  \n",
      "dtypes: float64(2), int32(20), int64(6), object(6)\n",
      "memory usage: 1.6+ MB\n"
     ]
    }
   ],
   "source": [
    "#checking for null values after the above join operation. -- all columns must have 9772 non-null objects\n",
    "df_genres.info()"
   ]
  },
  {
   "cell_type": "markdown",
   "metadata": {},
   "source": [
    "#### Now that we have data set ready for our question.We try to get populariy for each genre for each year."
   ]
  },
  {
   "cell_type": "code",
   "execution_count": 228,
   "metadata": {},
   "outputs": [],
   "source": [
    "def get_popularity_for_each_genre_by_year(genre_name):\n",
    "    '''\n",
    "    Input: genre name\n",
    "    Function: Filters the data for the given genre, then groups the filtered data by release year and computes mean for\n",
    "    popularity\n",
    "    Output: returns the mean popularity for the input genre\n",
    "    '''\n",
    "    temp_series = df_genres.query('{} == 1'.format(genre_name))\n",
    "    genre_popularity = temp_series.groupby('release_year')['popularity'].mean()\n",
    "    genre_popularity.name = genre_name\n",
    "    return genre_popularity"
   ]
  },
  {
   "cell_type": "code",
   "execution_count": 229,
   "metadata": {
    "scrolled": false
   },
   "outputs": [],
   "source": [
    "# creating a new series and keeping appending mean popularity for each genre for every years to the series\n",
    "genre_popularity = pd.Series(dtype=float)\n",
    "for genre in genres:\n",
    "    genre_popularity = pd.concat([genre_popularity,get_popularity_for_each_genre_by_year('genre_'+genre)], axis=1)"
   ]
  },
  {
   "cell_type": "code",
   "execution_count": 230,
   "metadata": {},
   "outputs": [
    {
     "data": {
      "text/html": [
       "<div>\n",
       "<style scoped>\n",
       "    .dataframe tbody tr th:only-of-type {\n",
       "        vertical-align: middle;\n",
       "    }\n",
       "\n",
       "    .dataframe tbody tr th {\n",
       "        vertical-align: top;\n",
       "    }\n",
       "\n",
       "    .dataframe thead th {\n",
       "        text-align: right;\n",
       "    }\n",
       "</style>\n",
       "<table border=\"1\" class=\"dataframe\">\n",
       "  <thead>\n",
       "    <tr style=\"text-align: right;\">\n",
       "      <th></th>\n",
       "      <th>0</th>\n",
       "      <th>genre_western</th>\n",
       "      <th>genre_mystery</th>\n",
       "      <th>genre_thriller</th>\n",
       "      <th>genre_documentary</th>\n",
       "      <th>genre_animation</th>\n",
       "      <th>genre_comedy</th>\n",
       "      <th>genre_action</th>\n",
       "      <th>genre_family</th>\n",
       "      <th>genre_crime</th>\n",
       "      <th>...</th>\n",
       "      <th>genre_war</th>\n",
       "      <th>genre_music</th>\n",
       "      <th>genre_horror</th>\n",
       "      <th>genre_romance</th>\n",
       "      <th>genre_tv_movie</th>\n",
       "      <th>genre_history</th>\n",
       "      <th>genre_drama</th>\n",
       "      <th>genre_science_fiction</th>\n",
       "      <th>genre_foreign</th>\n",
       "      <th>genre_adventure</th>\n",
       "    </tr>\n",
       "  </thead>\n",
       "  <tbody>\n",
       "    <tr>\n",
       "      <th>1960</th>\n",
       "      <td>NaN</td>\n",
       "      <td>0.567759</td>\n",
       "      <td>NaN</td>\n",
       "      <td>0.811910</td>\n",
       "      <td>NaN</td>\n",
       "      <td>NaN</td>\n",
       "      <td>0.396000</td>\n",
       "      <td>0.590724</td>\n",
       "      <td>0.278064</td>\n",
       "      <td>0.346479</td>\n",
       "      <td>...</td>\n",
       "      <td>0.225863</td>\n",
       "      <td>0.423531</td>\n",
       "      <td>0.591450</td>\n",
       "      <td>0.541227</td>\n",
       "      <td>NaN</td>\n",
       "      <td>0.412364</td>\n",
       "      <td>0.566305</td>\n",
       "      <td>0.327905</td>\n",
       "      <td>0.194948</td>\n",
       "      <td>0.700981</td>\n",
       "    </tr>\n",
       "    <tr>\n",
       "      <th>1961</th>\n",
       "      <td>NaN</td>\n",
       "      <td>0.210021</td>\n",
       "      <td>0.712793</td>\n",
       "      <td>NaN</td>\n",
       "      <td>NaN</td>\n",
       "      <td>2.631987</td>\n",
       "      <td>0.679838</td>\n",
       "      <td>0.365913</td>\n",
       "      <td>0.896028</td>\n",
       "      <td>0.806519</td>\n",
       "      <td>...</td>\n",
       "      <td>0.531184</td>\n",
       "      <td>0.564748</td>\n",
       "      <td>0.254578</td>\n",
       "      <td>0.426036</td>\n",
       "      <td>NaN</td>\n",
       "      <td>0.334463</td>\n",
       "      <td>0.432233</td>\n",
       "      <td>0.300638</td>\n",
       "      <td>0.113651</td>\n",
       "      <td>0.767323</td>\n",
       "    </tr>\n",
       "    <tr>\n",
       "      <th>1962</th>\n",
       "      <td>NaN</td>\n",
       "      <td>0.414180</td>\n",
       "      <td>0.259220</td>\n",
       "      <td>0.760582</td>\n",
       "      <td>NaN</td>\n",
       "      <td>NaN</td>\n",
       "      <td>0.273183</td>\n",
       "      <td>0.845972</td>\n",
       "      <td>0.323463</td>\n",
       "      <td>0.472816</td>\n",
       "      <td>...</td>\n",
       "      <td>0.700761</td>\n",
       "      <td>0.323933</td>\n",
       "      <td>0.179368</td>\n",
       "      <td>0.365621</td>\n",
       "      <td>NaN</td>\n",
       "      <td>0.640491</td>\n",
       "      <td>0.401909</td>\n",
       "      <td>0.179212</td>\n",
       "      <td>0.235542</td>\n",
       "      <td>0.942513</td>\n",
       "    </tr>\n",
       "  </tbody>\n",
       "</table>\n",
       "<p>3 rows × 21 columns</p>\n",
       "</div>"
      ],
      "text/plain": [
       "       0  genre_western  genre_mystery  genre_thriller  genre_documentary  \\\n",
       "1960 NaN       0.567759            NaN        0.811910                NaN   \n",
       "1961 NaN       0.210021       0.712793             NaN                NaN   \n",
       "1962 NaN       0.414180       0.259220        0.760582                NaN   \n",
       "\n",
       "      genre_animation  genre_comedy  genre_action  genre_family  genre_crime  \\\n",
       "1960              NaN      0.396000      0.590724      0.278064     0.346479   \n",
       "1961         2.631987      0.679838      0.365913      0.896028     0.806519   \n",
       "1962              NaN      0.273183      0.845972      0.323463     0.472816   \n",
       "\n",
       "      ...  genre_war  genre_music  genre_horror  genre_romance  \\\n",
       "1960  ...   0.225863     0.423531      0.591450       0.541227   \n",
       "1961  ...   0.531184     0.564748      0.254578       0.426036   \n",
       "1962  ...   0.700761     0.323933      0.179368       0.365621   \n",
       "\n",
       "      genre_tv_movie  genre_history  genre_drama  genre_science_fiction  \\\n",
       "1960             NaN       0.412364     0.566305               0.327905   \n",
       "1961             NaN       0.334463     0.432233               0.300638   \n",
       "1962             NaN       0.640491     0.401909               0.179212   \n",
       "\n",
       "      genre_foreign  genre_adventure  \n",
       "1960       0.194948         0.700981  \n",
       "1961       0.113651         0.767323  \n",
       "1962       0.235542         0.942513  \n",
       "\n",
       "[3 rows x 21 columns]"
      ]
     },
     "execution_count": 230,
     "metadata": {},
     "output_type": "execute_result"
    }
   ],
   "source": [
    "#viewing first 3 elements\n",
    "genre_popularity.head(3)"
   ]
  },
  {
   "cell_type": "code",
   "execution_count": 231,
   "metadata": {},
   "outputs": [],
   "source": [
    "#dropping any column that has all values as null\n",
    "genre_popularity.dropna(how='all', axis='columns', inplace=True)"
   ]
  },
  {
   "cell_type": "code",
   "execution_count": 232,
   "metadata": {},
   "outputs": [],
   "source": [
    "#filling nan values with mean popularity of that genre\n",
    "for column in genre_popularity.columns:\n",
    "    genre_popularity[column].fillna(genre_popularity[column].mean(), inplace=True)"
   ]
  },
  {
   "cell_type": "code",
   "execution_count": 234,
   "metadata": {},
   "outputs": [
    {
     "name": "stdout",
     "output_type": "stream",
     "text": [
      "<class 'pandas.core.frame.DataFrame'>\n",
      "Index: 56 entries, 1960 to 2015\n",
      "Data columns (total 20 columns):\n",
      " #   Column                 Non-Null Count  Dtype  \n",
      "---  ------                 --------------  -----  \n",
      " 0   genre_western          56 non-null     float64\n",
      " 1   genre_mystery          56 non-null     float64\n",
      " 2   genre_thriller         56 non-null     float64\n",
      " 3   genre_documentary      56 non-null     float64\n",
      " 4   genre_animation        56 non-null     float64\n",
      " 5   genre_comedy           56 non-null     float64\n",
      " 6   genre_action           56 non-null     float64\n",
      " 7   genre_family           56 non-null     float64\n",
      " 8   genre_crime            56 non-null     float64\n",
      " 9   genre_fantasy          56 non-null     float64\n",
      " 10  genre_war              56 non-null     float64\n",
      " 11  genre_music            56 non-null     float64\n",
      " 12  genre_horror           56 non-null     float64\n",
      " 13  genre_romance          56 non-null     float64\n",
      " 14  genre_tv_movie         56 non-null     float64\n",
      " 15  genre_history          56 non-null     float64\n",
      " 16  genre_drama            56 non-null     float64\n",
      " 17  genre_science_fiction  56 non-null     float64\n",
      " 18  genre_foreign          56 non-null     float64\n",
      " 19  genre_adventure        56 non-null     float64\n",
      "dtypes: float64(20)\n",
      "memory usage: 9.0+ KB\n"
     ]
    }
   ],
   "source": [
    "#checking if the column0 with all nan values has been removed and if nan values are replaced with the mean values\n",
    "genre_popularity.info()"
   ]
  },
  {
   "cell_type": "code",
   "execution_count": 248,
   "metadata": {},
   "outputs": [
    {
     "data": {
      "text/plain": [
       "True"
      ]
     },
     "execution_count": 248,
     "metadata": {},
     "output_type": "execute_result"
    }
   ],
   "source": [
    "#verifying that all years data is present -- must return True\n",
    "df_genres.release_year.nunique() == genre_popularity.shape[0]"
   ]
  },
  {
   "cell_type": "code",
   "execution_count": 241,
   "metadata": {},
   "outputs": [
    {
     "data": {
      "image/png": "[encoded data removed]",
      "text/plain": [
       "<Figure size 1080x1080 with 20 Axes>"
      ]
     },
     "metadata": {
      "needs_background": "light"
     },
     "output_type": "display_data"
    }
   ],
   "source": [
    "#histograms for each genre\n",
    "genre_popularity.hist(figsize=(15,15));"
   ]
  },
  {
   "cell_type": "markdown",
   "metadata": {},
   "source": [
    "From the above histogram, we could find that genre_animation and genre_adventure has been more popular as compared to others"
   ]
  },
  {
   "cell_type": "code",
   "execution_count": 257,
   "metadata": {},
   "outputs": [
    {
     "data": {
      "image/png": "[encoded data removed]",
      "text/plain": [
       "<Figure size 720x432 with 1 Axes>"
      ]
     },
     "metadata": {
      "needs_background": "light"
     },
     "output_type": "display_data"
    }
   ],
   "source": [
    "#mean popularity for all the genres for all the years\n",
    "genre_popularity.mean().sort_values(ascending=False).plot(kind='bar', figsize=(10,6))\n",
    "plt.title('Popularity of Genres for All years from 1960 to 2015')\n",
    "plt.xlabel('Genres')\n",
    "plt.ylabel('Mean Popularity');"
   ]
  },
  {
   "cell_type": "code",
   "execution_count": 250,
   "metadata": {},
   "outputs": [
    {
     "data": {
      "text/plain": [
       "['genre_adventure',\n",
       " 'genre_animation',\n",
       " 'genre_fantasy',\n",
       " 'genre_science_fiction',\n",
       " 'genre_action']"
      ]
     },
     "execution_count": 250,
     "metadata": {},
     "output_type": "execute_result"
    }
   ],
   "source": [
    "#Displaying line chart for only the top 5 genres across years as displaying all the data made the chart messy\n",
    "top5_genres = list(genre_popularity.mean().sort_values(ascending=False)[0:5].index)\n",
    "top5_genres"
   ]
  },
  {
   "cell_type": "code",
   "execution_count": 267,
   "metadata": {
    "scrolled": false
   },
   "outputs": [
    {
     "data": {
      "image/png": "[encoded data removed]",
      "text/plain": [
       "<Figure size 1080x576 with 1 Axes>"
      ]
     },
     "metadata": {
      "needs_background": "light"
     },
     "output_type": "display_data"
    }
   ],
   "source": [
    "genre_popularity[top5_genres].plot(kind='line', figsize=(15,8))\n",
    "plt.title(r\"Top 5 Genre's Popularity Across Years\")\n",
    "plt.xlabel('Release Year')\n",
    "plt.ylabel('Mean Popularity For Each Released Year')\n",
    "plt.grid()\n",
    "plt.legend(loc='upper left');"
   ]
  },
  {
   "cell_type": "markdown",
   "metadata": {},
   "source": [
    "<a id='conclusions'></a>\n",
    "## Conclusions\n",
    "From the above analysis, it is clear that the most popular genre for the reported dataset is 'adventure'. If we consider the popularity across years for the top 5 genres, we could say that:\n",
    "<ol>\n",
    "    <li> Animation was most popular in 1960's to 1970</li>\n",
    "    <li> From 1970's to 1980 many genres has been popular. Fantasy, science_fiction and action has made peaks in this region</li>\n",
    "    <li> Animation has made peak again in the late 1980's and early 1990's</li>\n",
    "    <li> Fantasy has been popular from 2000's to 2010</li>\n",
    "    <li> From 2010 onwards, adventure seeems to top the table</li>\n",
    "</ol>\n",
    "<ol>\n",
    "    <b>\n",
    "        <li>Above analysis is applicable only for the shared dataset- tmdb-movies.csv</li>\n",
    "        <li>Only basic statistics have been used to arrive at the above conclusions</li>\n",
    "        <li>The above findings are dervied from only a part of the dataset as many entries were removed due to missing data</li>\n",
    "    </b>\n",
    "</ol>\n"
   ]
  }
 ],
 "metadata": {
  "kernelspec": {
   "display_name": "py3_env",
   "language": "python",
   "name": "py3_env"
  },
  "language_info": {
   "codemirror_mode": {
    "name": "ipython",
    "version": 3
   },
   "file_extension": ".py",
   "mimetype": "text/x-python",
   "name": "python",
   "nbconvert_exporter": "python",
   "pygments_lexer": "ipython3",
   "version": "3.8.8"
  }
 },
 "nbformat": 4,
 "nbformat_minor": 2
}
